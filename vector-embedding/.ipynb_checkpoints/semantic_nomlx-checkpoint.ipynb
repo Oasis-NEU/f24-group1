{
 "cells": [
  {
   "cell_type": "code",
   "execution_count": 29,
   "metadata": {},
   "outputs": [],
   "source": [
    "import torch\n",
    "\n",
    "from sentence_transformers import SentenceTransformer\n",
    "import csv\n",
    "import random"
   ]
  },
  {
   "cell_type": "code",
   "execution_count": 31,
   "metadata": {},
   "outputs": [
    {
     "name": "stdout",
     "output_type": "stream",
     "text": [
      "Baked apples with cream\n",
      "422040\n"
     ]
    }
   ],
   "source": [
    "dishList  = []\n",
    "with open(\"Dish.csv\") as dishes:\n",
    "    reader = csv.reader(dishes)\n",
    "    for row in reader:\n",
    "        dishList.append(row[1])\n",
    "print(dishList[100])\n",
    "print(len(dishList))\n"
   ]
  },
  {
   "cell_type": "code",
   "execution_count": 34,
   "metadata": {},
   "outputs": [
    {
     "name": "stdout",
     "output_type": "stream",
     "text": [
      "422040\n"
     ]
    }
   ],
   "source": [
    "print(len(dishList))\n",
    "sampled = random.sample(dishList,1000)"
   ]
  },
  {
   "cell_type": "code",
   "execution_count": 33,
   "metadata": {},
   "outputs": [
    {
     "name": "stderr",
     "output_type": "stream",
     "text": [
      "/Users/nourshoreibah/Documents/oasisnotes/HS2/env/lib/python3.11/site-packages/transformers/tokenization_utils_base.py:1601: FutureWarning: `clean_up_tokenization_spaces` was not set. It will be set to `True` by default. This behavior will be depracted in transformers v4.45, and will be then set to `False` by default. For more details check this issue: https://github.com/huggingface/transformers/issues/31884\n",
      "  warnings.warn(\n"
     ]
    }
   ],
   "source": [
    "embedder = SentenceTransformer(\"all-MiniLM-L6-v2\")"
   ]
  },
  {
   "cell_type": "code",
   "execution_count": 35,
   "metadata": {},
   "outputs": [],
   "source": [
    "corpus_embeddings = embedder.encode(sampled, convert_to_tensor=True)"
   ]
  },
  {
   "cell_type": "code",
   "execution_count": 36,
   "metadata": {},
   "outputs": [],
   "source": [
    "queries = [\"chicken bowl\", \"sandwich\",\"asian\",\"mexican\",\"burrito\",\"grilled cheese\",\"healthy food with lots of protein\"]"
   ]
  },
  {
   "cell_type": "code",
   "execution_count": 37,
   "metadata": {},
   "outputs": [
    {
     "name": "stdout",
     "output_type": "stream",
     "text": [
      "\n",
      "Query: chicken bowl\n",
      "Top k most similar sentences in corpus:\n",
      "CHICKEN SALAD BOWL: Cubes of Tender Meat and Celery with a Tangy Dressing. Hot Rolls and Butter (Score: 0.6842)\n",
      "whole broiled chicken (Score: 0.6623)\n",
      "Chicken Salad with White Grapes (Score: 0.5916)\n",
      "\n",
      "Query: sandwich\n",
      "Top k most similar sentences in corpus:\n",
      "Egg [sandwich] (Score: 0.7338)\n",
      "Hot Turkey sandwich (Score: 0.6749)\n",
      "Olive and Egg Sandwich (Score: 0.6730)\n",
      "\n",
      "Query: asian\n",
      "Top k most similar sentences in corpus:\n",
      "Jamaica (Score: 0.3404)\n",
      "Tchigae (Korean Style Pot Dish), Tubu Tchigai (BEan Curd with Beef or Pork and Vegetables), Sanjok, Saewu T'uigim, Koch=Tang (Score: 0.3358)\n",
      "Rhum Creole  (Score: 0.3273)\n",
      "\n",
      "Query: mexican\n",
      "Top k most similar sentences in corpus:\n",
      "Spanish Puffs (Score: 0.4434)\n",
      "Santa Rita Blanco (Score: 0.4375)\n",
      "Omelet, American (Score: 0.4185)\n",
      "\n",
      "Query: burrito\n",
      "Top k most similar sentences in corpus:\n",
      "Macaroni, Plain (Score: 0.4925)\n",
      "Cherry or Coffee Jello (Score: 0.4858)\n",
      "QUESADILLAS: Two cheeses, bacon & pico de gallo grilled between tortillas with guacamole, sour cream & salsa. With fajita-marinated chicken breast (Score: 0.4662)\n",
      "\n",
      "Query: grilled cheese\n",
      "Top k most similar sentences in corpus:\n",
      "Swiss cheese  (Score: 0.6311)\n",
      "\"COACH HOUSE GRILL\" - Crisp Bacon, Tomato and Melted Old English Cheese over Buttered Toast (Score: 0.6281)\n",
      "Samsoe Cheese (Score: 0.5939)\n",
      "\n",
      "Query: healthy food with lots of protein\n",
      "Top k most similar sentences in corpus:\n",
      "Sandwich Fresh Salmon Salad, Mayonnaise, Sliced Tomato and Dill Pickle (Score: 0.4754)\n",
      "Broiled Club Steak, Mushrooms, Green Peas, Waffle Potatoes (Score: 0.4743)\n",
      "Chicken cutlets, cream sauce and green peas (Score: 0.4495)\n"
     ]
    }
   ],
   "source": [
    "top_k = min(3, len(sampled))\n",
    "for query in queries:\n",
    "    query_embedding = embedder.encode(query, convert_to_tensor=True)\n",
    "  \n",
    "\n",
    "    # We use cosine-similarity and torch.topk to find the highest 5 scores\n",
    "    similarity_scores = embedder.similarity(query_embedding, corpus_embeddings)[0]\n",
    "\n",
    "    \n",
    "    scores, indices = torch.topk(similarity_scores, k=top_k)\n",
    "\n",
    "    print(\"\\nQuery:\", query)\n",
    "    print(\"Top k most similar sentences in corpus:\")\n",
    "\n",
    "\n",
    "    for score, idx in zip(scores, indices):\n",
    "        print(sampled[idx], f\"(Score: {score:.4f})\")"
   ]
  }
 ],
 "metadata": {
  "kernelspec": {
   "display_name": "Python 3 (ipykernel)",
   "language": "python",
   "name": "python3"
  },
  "language_info": {
   "codemirror_mode": {
    "name": "ipython",
    "version": 3
   },
   "file_extension": ".py",
   "mimetype": "text/x-python",
   "name": "python",
   "nbconvert_exporter": "python",
   "pygments_lexer": "ipython3",
   "version": "3.11.5"
  }
 },
 "nbformat": 4,
 "nbformat_minor": 4
}
